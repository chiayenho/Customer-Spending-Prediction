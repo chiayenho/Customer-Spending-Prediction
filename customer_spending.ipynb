{
 "cells": [
  {
   "cell_type": "markdown",
   "metadata": {},
   "source": [
    "**<font size=3>GOAL**\n",
    "\n",
    "    The dataset id about whether or not different consumers made a purchase in response to a test mailing of a certain catalog and, in case of a purchase, how much money each consumer spent. \n",
    "\n",
    "**<font size=3>Stage 1**    \n",
    "    \n",
    "    Build numeric prediction models that predict Spending based on the other available customer information.\n",
    "\n",
    "**<font size=3>Stage 2**    \n",
    "    \n",
    "    Create a separate “restricted” dataset (i.e., a subset of the original dataset), which includes only purchase records (i.e., where Purchase = 1). Build numeric prediction models to predict Spending for this restricted dataset.\n"
   ]
  },
  {
   "cell_type": "markdown",
   "metadata": {},
   "source": [
    "**<font size=3>Variable Description**\n",
    "   Variable Name\tDescription\tVariable Type\tCode Description\n",
    "- 1.  US           --     a US address?\t(binary, 1/0)\n",
    "- 2-16 Source_*\t    --      Source catalog for the record\t(binary, 1/0)\n",
    "- 17.\tFreq.\t    --          Number of transactions in last year at source catalog\t(numeric)\t\n",
    "- 18. last_update_days_ago --  How many days ago was last update to cust. record (numeric)\t\n",
    "- 19. 1st_update_days_ago\t--  How many days ago was 1st update to cust. record\t(numeric)\t\n",
    "- 20.\tWeb_order\t       --   Customer placed at least 1 order via web\t(binary, 1/0)\n",
    "- 21.\tGender=male\t      --    Customer is male\t(binary, 1/0)\n",
    "- 22.\tAddress_is_res\t  --    Address is a residence\tbinary\t(binary, 1/0)\n",
    "- 23.\tPurchase\t      --    Person made purchase in test mailing\t(binary, 1/0)\n",
    "- 24.\tSpending\t      --    Amount spent by customer in test mailing ($)\t(numeric)\t"
   ]
  },
  {
   "cell_type": "code",
   "execution_count": 1,
   "metadata": {},
   "outputs": [],
   "source": [
    "import numpy as np\n",
    "import pandas as pd\n",
    "import matplotlib.pyplot as plt\n",
    "import seaborn as sns\n",
    "%matplotlib inline\n",
    "\n",
    "from sklearn.model_selection import train_test_split\n",
    "from sklearn.model_selection import KFold\n",
    "from sklearn.model_selection import GridSearchCV\n",
    "from sklearn.model_selection import cross_val_score\n",
    "from sklearn.metrics import mean_squared_error\n",
    "from sklearn.tree import DecisionTreeClassifier\n",
    "from sklearn.linear_model import LogisticRegression\n",
    "from sklearn.neighbors import KNeighborsClassifier\n",
    "from sklearn.naive_bayes import GaussianNB\n",
    "from sklearn.svm import SVR\n",
    "from sklearn.preprocessing import MinMaxScaler\n",
    "\n",
    "import warnings\n",
    "warnings.filterwarnings(\"ignore\")"
   ]
  },
  {
   "cell_type": "code",
   "execution_count": 2,
   "metadata": {},
   "outputs": [],
   "source": [
    "df = pd.read_csv('HW3.csv')\n",
    "df.drop('sequence_number', axis=1, inplace=True)"
   ]
  },
  {
   "cell_type": "code",
   "execution_count": 3,
   "metadata": {
    "scrolled": true
   },
   "outputs": [
    {
     "data": {
      "text/html": [
       "<div>\n",
       "<style scoped>\n",
       "    .dataframe tbody tr th:only-of-type {\n",
       "        vertical-align: middle;\n",
       "    }\n",
       "\n",
       "    .dataframe tbody tr th {\n",
       "        vertical-align: top;\n",
       "    }\n",
       "\n",
       "    .dataframe thead th {\n",
       "        text-align: right;\n",
       "    }\n",
       "</style>\n",
       "<table border=\"1\" class=\"dataframe\">\n",
       "  <thead>\n",
       "    <tr style=\"text-align: right;\">\n",
       "      <th></th>\n",
       "      <th>US</th>\n",
       "      <th>source_a</th>\n",
       "      <th>source_c</th>\n",
       "      <th>source_b</th>\n",
       "      <th>source_d</th>\n",
       "      <th>source_e</th>\n",
       "      <th>source_m</th>\n",
       "      <th>source_o</th>\n",
       "      <th>source_h</th>\n",
       "      <th>source_r</th>\n",
       "      <th>...</th>\n",
       "      <th>source_x</th>\n",
       "      <th>source_w</th>\n",
       "      <th>Freq</th>\n",
       "      <th>last_update_days_ago</th>\n",
       "      <th>1st_update_days_ago</th>\n",
       "      <th>Web order</th>\n",
       "      <th>Gender=male</th>\n",
       "      <th>Address_is_res</th>\n",
       "      <th>Purchase</th>\n",
       "      <th>Spending</th>\n",
       "    </tr>\n",
       "  </thead>\n",
       "  <tbody>\n",
       "    <tr>\n",
       "      <th>0</th>\n",
       "      <td>1</td>\n",
       "      <td>0</td>\n",
       "      <td>0</td>\n",
       "      <td>1</td>\n",
       "      <td>0</td>\n",
       "      <td>0</td>\n",
       "      <td>0</td>\n",
       "      <td>0</td>\n",
       "      <td>0</td>\n",
       "      <td>0</td>\n",
       "      <td>...</td>\n",
       "      <td>0</td>\n",
       "      <td>0</td>\n",
       "      <td>2</td>\n",
       "      <td>3662</td>\n",
       "      <td>3662</td>\n",
       "      <td>1</td>\n",
       "      <td>0</td>\n",
       "      <td>1</td>\n",
       "      <td>1</td>\n",
       "      <td>127.87</td>\n",
       "    </tr>\n",
       "    <tr>\n",
       "      <th>1</th>\n",
       "      <td>1</td>\n",
       "      <td>0</td>\n",
       "      <td>0</td>\n",
       "      <td>0</td>\n",
       "      <td>0</td>\n",
       "      <td>1</td>\n",
       "      <td>0</td>\n",
       "      <td>0</td>\n",
       "      <td>0</td>\n",
       "      <td>0</td>\n",
       "      <td>...</td>\n",
       "      <td>0</td>\n",
       "      <td>0</td>\n",
       "      <td>0</td>\n",
       "      <td>2900</td>\n",
       "      <td>2900</td>\n",
       "      <td>1</td>\n",
       "      <td>1</td>\n",
       "      <td>0</td>\n",
       "      <td>0</td>\n",
       "      <td>0.00</td>\n",
       "    </tr>\n",
       "    <tr>\n",
       "      <th>2</th>\n",
       "      <td>1</td>\n",
       "      <td>0</td>\n",
       "      <td>0</td>\n",
       "      <td>0</td>\n",
       "      <td>0</td>\n",
       "      <td>0</td>\n",
       "      <td>0</td>\n",
       "      <td>0</td>\n",
       "      <td>0</td>\n",
       "      <td>0</td>\n",
       "      <td>...</td>\n",
       "      <td>0</td>\n",
       "      <td>0</td>\n",
       "      <td>2</td>\n",
       "      <td>3883</td>\n",
       "      <td>3914</td>\n",
       "      <td>0</td>\n",
       "      <td>0</td>\n",
       "      <td>0</td>\n",
       "      <td>1</td>\n",
       "      <td>127.48</td>\n",
       "    </tr>\n",
       "    <tr>\n",
       "      <th>3</th>\n",
       "      <td>1</td>\n",
       "      <td>0</td>\n",
       "      <td>1</td>\n",
       "      <td>0</td>\n",
       "      <td>0</td>\n",
       "      <td>0</td>\n",
       "      <td>0</td>\n",
       "      <td>0</td>\n",
       "      <td>0</td>\n",
       "      <td>0</td>\n",
       "      <td>...</td>\n",
       "      <td>0</td>\n",
       "      <td>0</td>\n",
       "      <td>1</td>\n",
       "      <td>829</td>\n",
       "      <td>829</td>\n",
       "      <td>0</td>\n",
       "      <td>1</td>\n",
       "      <td>0</td>\n",
       "      <td>0</td>\n",
       "      <td>0.00</td>\n",
       "    </tr>\n",
       "    <tr>\n",
       "      <th>4</th>\n",
       "      <td>1</td>\n",
       "      <td>0</td>\n",
       "      <td>1</td>\n",
       "      <td>0</td>\n",
       "      <td>0</td>\n",
       "      <td>0</td>\n",
       "      <td>0</td>\n",
       "      <td>0</td>\n",
       "      <td>0</td>\n",
       "      <td>0</td>\n",
       "      <td>...</td>\n",
       "      <td>0</td>\n",
       "      <td>0</td>\n",
       "      <td>1</td>\n",
       "      <td>869</td>\n",
       "      <td>869</td>\n",
       "      <td>0</td>\n",
       "      <td>0</td>\n",
       "      <td>0</td>\n",
       "      <td>0</td>\n",
       "      <td>0.00</td>\n",
       "    </tr>\n",
       "  </tbody>\n",
       "</table>\n",
       "<p>5 rows × 24 columns</p>\n",
       "</div>"
      ],
      "text/plain": [
       "   US  source_a  source_c  source_b  source_d  source_e  source_m  source_o  \\\n",
       "0   1         0         0         1         0         0         0         0   \n",
       "1   1         0         0         0         0         1         0         0   \n",
       "2   1         0         0         0         0         0         0         0   \n",
       "3   1         0         1         0         0         0         0         0   \n",
       "4   1         0         1         0         0         0         0         0   \n",
       "\n",
       "   source_h  source_r  ...  source_x  source_w  Freq  last_update_days_ago  \\\n",
       "0         0         0  ...         0         0     2                  3662   \n",
       "1         0         0  ...         0         0     0                  2900   \n",
       "2         0         0  ...         0         0     2                  3883   \n",
       "3         0         0  ...         0         0     1                   829   \n",
       "4         0         0  ...         0         0     1                   869   \n",
       "\n",
       "   1st_update_days_ago  Web order  Gender=male  Address_is_res  Purchase  \\\n",
       "0                 3662          1            0               1         1   \n",
       "1                 2900          1            1               0         0   \n",
       "2                 3914          0            0               0         1   \n",
       "3                  829          0            1               0         0   \n",
       "4                  869          0            0               0         0   \n",
       "\n",
       "   Spending  \n",
       "0    127.87  \n",
       "1      0.00  \n",
       "2    127.48  \n",
       "3      0.00  \n",
       "4      0.00  \n",
       "\n",
       "[5 rows x 24 columns]"
      ]
     },
     "execution_count": 3,
     "metadata": {},
     "output_type": "execute_result"
    }
   ],
   "source": [
    "df.head()"
   ]
  },
  {
   "cell_type": "code",
   "execution_count": 4,
   "metadata": {},
   "outputs": [
    {
     "data": {
      "text/html": [
       "<div>\n",
       "<style scoped>\n",
       "    .dataframe tbody tr th:only-of-type {\n",
       "        vertical-align: middle;\n",
       "    }\n",
       "\n",
       "    .dataframe tbody tr th {\n",
       "        vertical-align: top;\n",
       "    }\n",
       "\n",
       "    .dataframe thead th {\n",
       "        text-align: right;\n",
       "    }\n",
       "</style>\n",
       "<table border=\"1\" class=\"dataframe\">\n",
       "  <thead>\n",
       "    <tr style=\"text-align: right;\">\n",
       "      <th></th>\n",
       "      <th>count</th>\n",
       "      <th>mean</th>\n",
       "      <th>std</th>\n",
       "      <th>min</th>\n",
       "      <th>25%</th>\n",
       "      <th>50%</th>\n",
       "      <th>75%</th>\n",
       "      <th>max</th>\n",
       "    </tr>\n",
       "  </thead>\n",
       "  <tbody>\n",
       "    <tr>\n",
       "      <th>US</th>\n",
       "      <td>2000.0</td>\n",
       "      <td>0.824500</td>\n",
       "      <td>0.380489</td>\n",
       "      <td>0.0</td>\n",
       "      <td>1.00</td>\n",
       "      <td>1.000</td>\n",
       "      <td>1.0000</td>\n",
       "      <td>1.00</td>\n",
       "    </tr>\n",
       "    <tr>\n",
       "      <th>source_a</th>\n",
       "      <td>2000.0</td>\n",
       "      <td>0.126500</td>\n",
       "      <td>0.332495</td>\n",
       "      <td>0.0</td>\n",
       "      <td>0.00</td>\n",
       "      <td>0.000</td>\n",
       "      <td>0.0000</td>\n",
       "      <td>1.00</td>\n",
       "    </tr>\n",
       "    <tr>\n",
       "      <th>source_c</th>\n",
       "      <td>2000.0</td>\n",
       "      <td>0.056000</td>\n",
       "      <td>0.229979</td>\n",
       "      <td>0.0</td>\n",
       "      <td>0.00</td>\n",
       "      <td>0.000</td>\n",
       "      <td>0.0000</td>\n",
       "      <td>1.00</td>\n",
       "    </tr>\n",
       "    <tr>\n",
       "      <th>source_b</th>\n",
       "      <td>2000.0</td>\n",
       "      <td>0.060000</td>\n",
       "      <td>0.237546</td>\n",
       "      <td>0.0</td>\n",
       "      <td>0.00</td>\n",
       "      <td>0.000</td>\n",
       "      <td>0.0000</td>\n",
       "      <td>1.00</td>\n",
       "    </tr>\n",
       "    <tr>\n",
       "      <th>source_d</th>\n",
       "      <td>2000.0</td>\n",
       "      <td>0.041500</td>\n",
       "      <td>0.199493</td>\n",
       "      <td>0.0</td>\n",
       "      <td>0.00</td>\n",
       "      <td>0.000</td>\n",
       "      <td>0.0000</td>\n",
       "      <td>1.00</td>\n",
       "    </tr>\n",
       "    <tr>\n",
       "      <th>source_e</th>\n",
       "      <td>2000.0</td>\n",
       "      <td>0.151000</td>\n",
       "      <td>0.358138</td>\n",
       "      <td>0.0</td>\n",
       "      <td>0.00</td>\n",
       "      <td>0.000</td>\n",
       "      <td>0.0000</td>\n",
       "      <td>1.00</td>\n",
       "    </tr>\n",
       "    <tr>\n",
       "      <th>source_m</th>\n",
       "      <td>2000.0</td>\n",
       "      <td>0.016500</td>\n",
       "      <td>0.127420</td>\n",
       "      <td>0.0</td>\n",
       "      <td>0.00</td>\n",
       "      <td>0.000</td>\n",
       "      <td>0.0000</td>\n",
       "      <td>1.00</td>\n",
       "    </tr>\n",
       "    <tr>\n",
       "      <th>source_o</th>\n",
       "      <td>2000.0</td>\n",
       "      <td>0.033500</td>\n",
       "      <td>0.179983</td>\n",
       "      <td>0.0</td>\n",
       "      <td>0.00</td>\n",
       "      <td>0.000</td>\n",
       "      <td>0.0000</td>\n",
       "      <td>1.00</td>\n",
       "    </tr>\n",
       "    <tr>\n",
       "      <th>source_h</th>\n",
       "      <td>2000.0</td>\n",
       "      <td>0.052500</td>\n",
       "      <td>0.223089</td>\n",
       "      <td>0.0</td>\n",
       "      <td>0.00</td>\n",
       "      <td>0.000</td>\n",
       "      <td>0.0000</td>\n",
       "      <td>1.00</td>\n",
       "    </tr>\n",
       "    <tr>\n",
       "      <th>source_r</th>\n",
       "      <td>2000.0</td>\n",
       "      <td>0.068500</td>\n",
       "      <td>0.252665</td>\n",
       "      <td>0.0</td>\n",
       "      <td>0.00</td>\n",
       "      <td>0.000</td>\n",
       "      <td>0.0000</td>\n",
       "      <td>1.00</td>\n",
       "    </tr>\n",
       "    <tr>\n",
       "      <th>source_s</th>\n",
       "      <td>2000.0</td>\n",
       "      <td>0.047000</td>\n",
       "      <td>0.211692</td>\n",
       "      <td>0.0</td>\n",
       "      <td>0.00</td>\n",
       "      <td>0.000</td>\n",
       "      <td>0.0000</td>\n",
       "      <td>1.00</td>\n",
       "    </tr>\n",
       "    <tr>\n",
       "      <th>source_t</th>\n",
       "      <td>2000.0</td>\n",
       "      <td>0.021500</td>\n",
       "      <td>0.145080</td>\n",
       "      <td>0.0</td>\n",
       "      <td>0.00</td>\n",
       "      <td>0.000</td>\n",
       "      <td>0.0000</td>\n",
       "      <td>1.00</td>\n",
       "    </tr>\n",
       "    <tr>\n",
       "      <th>source_u</th>\n",
       "      <td>2000.0</td>\n",
       "      <td>0.119000</td>\n",
       "      <td>0.323869</td>\n",
       "      <td>0.0</td>\n",
       "      <td>0.00</td>\n",
       "      <td>0.000</td>\n",
       "      <td>0.0000</td>\n",
       "      <td>1.00</td>\n",
       "    </tr>\n",
       "    <tr>\n",
       "      <th>source_p</th>\n",
       "      <td>2000.0</td>\n",
       "      <td>0.006000</td>\n",
       "      <td>0.077246</td>\n",
       "      <td>0.0</td>\n",
       "      <td>0.00</td>\n",
       "      <td>0.000</td>\n",
       "      <td>0.0000</td>\n",
       "      <td>1.00</td>\n",
       "    </tr>\n",
       "    <tr>\n",
       "      <th>source_x</th>\n",
       "      <td>2000.0</td>\n",
       "      <td>0.018000</td>\n",
       "      <td>0.132984</td>\n",
       "      <td>0.0</td>\n",
       "      <td>0.00</td>\n",
       "      <td>0.000</td>\n",
       "      <td>0.0000</td>\n",
       "      <td>1.00</td>\n",
       "    </tr>\n",
       "    <tr>\n",
       "      <th>source_w</th>\n",
       "      <td>2000.0</td>\n",
       "      <td>0.137500</td>\n",
       "      <td>0.344461</td>\n",
       "      <td>0.0</td>\n",
       "      <td>0.00</td>\n",
       "      <td>0.000</td>\n",
       "      <td>0.0000</td>\n",
       "      <td>1.00</td>\n",
       "    </tr>\n",
       "    <tr>\n",
       "      <th>Freq</th>\n",
       "      <td>2000.0</td>\n",
       "      <td>1.417000</td>\n",
       "      <td>1.405738</td>\n",
       "      <td>0.0</td>\n",
       "      <td>1.00</td>\n",
       "      <td>1.000</td>\n",
       "      <td>2.0000</td>\n",
       "      <td>15.00</td>\n",
       "    </tr>\n",
       "    <tr>\n",
       "      <th>last_update_days_ago</th>\n",
       "      <td>2000.0</td>\n",
       "      <td>2155.101000</td>\n",
       "      <td>1141.302846</td>\n",
       "      <td>1.0</td>\n",
       "      <td>1133.00</td>\n",
       "      <td>2280.000</td>\n",
       "      <td>3139.2500</td>\n",
       "      <td>4188.00</td>\n",
       "    </tr>\n",
       "    <tr>\n",
       "      <th>1st_update_days_ago</th>\n",
       "      <td>2000.0</td>\n",
       "      <td>2435.601500</td>\n",
       "      <td>1077.872233</td>\n",
       "      <td>1.0</td>\n",
       "      <td>1671.25</td>\n",
       "      <td>2721.000</td>\n",
       "      <td>3353.0000</td>\n",
       "      <td>4188.00</td>\n",
       "    </tr>\n",
       "    <tr>\n",
       "      <th>Web order</th>\n",
       "      <td>2000.0</td>\n",
       "      <td>0.426000</td>\n",
       "      <td>0.494617</td>\n",
       "      <td>0.0</td>\n",
       "      <td>0.00</td>\n",
       "      <td>0.000</td>\n",
       "      <td>1.0000</td>\n",
       "      <td>1.00</td>\n",
       "    </tr>\n",
       "    <tr>\n",
       "      <th>Gender=male</th>\n",
       "      <td>2000.0</td>\n",
       "      <td>0.524500</td>\n",
       "      <td>0.499524</td>\n",
       "      <td>0.0</td>\n",
       "      <td>0.00</td>\n",
       "      <td>1.000</td>\n",
       "      <td>1.0000</td>\n",
       "      <td>1.00</td>\n",
       "    </tr>\n",
       "    <tr>\n",
       "      <th>Address_is_res</th>\n",
       "      <td>2000.0</td>\n",
       "      <td>0.221000</td>\n",
       "      <td>0.415024</td>\n",
       "      <td>0.0</td>\n",
       "      <td>0.00</td>\n",
       "      <td>0.000</td>\n",
       "      <td>0.0000</td>\n",
       "      <td>1.00</td>\n",
       "    </tr>\n",
       "    <tr>\n",
       "      <th>Purchase</th>\n",
       "      <td>2000.0</td>\n",
       "      <td>0.500000</td>\n",
       "      <td>0.500125</td>\n",
       "      <td>0.0</td>\n",
       "      <td>0.00</td>\n",
       "      <td>0.500</td>\n",
       "      <td>1.0000</td>\n",
       "      <td>1.00</td>\n",
       "    </tr>\n",
       "    <tr>\n",
       "      <th>Spending</th>\n",
       "      <td>2000.0</td>\n",
       "      <td>102.560745</td>\n",
       "      <td>186.749816</td>\n",
       "      <td>0.0</td>\n",
       "      <td>0.00</td>\n",
       "      <td>1.855</td>\n",
       "      <td>152.5325</td>\n",
       "      <td>1500.06</td>\n",
       "    </tr>\n",
       "  </tbody>\n",
       "</table>\n",
       "</div>"
      ],
      "text/plain": [
       "                       count         mean          std  min      25%  \\\n",
       "US                    2000.0     0.824500     0.380489  0.0     1.00   \n",
       "source_a              2000.0     0.126500     0.332495  0.0     0.00   \n",
       "source_c              2000.0     0.056000     0.229979  0.0     0.00   \n",
       "source_b              2000.0     0.060000     0.237546  0.0     0.00   \n",
       "source_d              2000.0     0.041500     0.199493  0.0     0.00   \n",
       "source_e              2000.0     0.151000     0.358138  0.0     0.00   \n",
       "source_m              2000.0     0.016500     0.127420  0.0     0.00   \n",
       "source_o              2000.0     0.033500     0.179983  0.0     0.00   \n",
       "source_h              2000.0     0.052500     0.223089  0.0     0.00   \n",
       "source_r              2000.0     0.068500     0.252665  0.0     0.00   \n",
       "source_s              2000.0     0.047000     0.211692  0.0     0.00   \n",
       "source_t              2000.0     0.021500     0.145080  0.0     0.00   \n",
       "source_u              2000.0     0.119000     0.323869  0.0     0.00   \n",
       "source_p              2000.0     0.006000     0.077246  0.0     0.00   \n",
       "source_x              2000.0     0.018000     0.132984  0.0     0.00   \n",
       "source_w              2000.0     0.137500     0.344461  0.0     0.00   \n",
       "Freq                  2000.0     1.417000     1.405738  0.0     1.00   \n",
       "last_update_days_ago  2000.0  2155.101000  1141.302846  1.0  1133.00   \n",
       "1st_update_days_ago   2000.0  2435.601500  1077.872233  1.0  1671.25   \n",
       "Web order             2000.0     0.426000     0.494617  0.0     0.00   \n",
       "Gender=male           2000.0     0.524500     0.499524  0.0     0.00   \n",
       "Address_is_res        2000.0     0.221000     0.415024  0.0     0.00   \n",
       "Purchase              2000.0     0.500000     0.500125  0.0     0.00   \n",
       "Spending              2000.0   102.560745   186.749816  0.0     0.00   \n",
       "\n",
       "                           50%        75%      max  \n",
       "US                       1.000     1.0000     1.00  \n",
       "source_a                 0.000     0.0000     1.00  \n",
       "source_c                 0.000     0.0000     1.00  \n",
       "source_b                 0.000     0.0000     1.00  \n",
       "source_d                 0.000     0.0000     1.00  \n",
       "source_e                 0.000     0.0000     1.00  \n",
       "source_m                 0.000     0.0000     1.00  \n",
       "source_o                 0.000     0.0000     1.00  \n",
       "source_h                 0.000     0.0000     1.00  \n",
       "source_r                 0.000     0.0000     1.00  \n",
       "source_s                 0.000     0.0000     1.00  \n",
       "source_t                 0.000     0.0000     1.00  \n",
       "source_u                 0.000     0.0000     1.00  \n",
       "source_p                 0.000     0.0000     1.00  \n",
       "source_x                 0.000     0.0000     1.00  \n",
       "source_w                 0.000     0.0000     1.00  \n",
       "Freq                     1.000     2.0000    15.00  \n",
       "last_update_days_ago  2280.000  3139.2500  4188.00  \n",
       "1st_update_days_ago   2721.000  3353.0000  4188.00  \n",
       "Web order                0.000     1.0000     1.00  \n",
       "Gender=male              1.000     1.0000     1.00  \n",
       "Address_is_res           0.000     0.0000     1.00  \n",
       "Purchase                 0.500     1.0000     1.00  \n",
       "Spending                 1.855   152.5325  1500.06  "
      ]
     },
     "execution_count": 4,
     "metadata": {},
     "output_type": "execute_result"
    }
   ],
   "source": [
    "df.describe().transpose()"
   ]
  },
  {
   "cell_type": "code",
   "execution_count": 5,
   "metadata": {},
   "outputs": [
    {
     "data": {
      "text/plain": [
       "<seaborn.axisgrid.PairGrid at 0x7f9a429d75b0>"
      ]
     },
     "execution_count": 5,
     "metadata": {},
     "output_type": "execute_result"
    },
    {
     "data": {
      "image/png": "[encoded data removed]",
      "text/plain": [
       "<Figure size 360x360 with 6 Axes>"
      ]
     },
     "metadata": {
      "needs_background": "light"
     },
     "output_type": "display_data"
    }
   ],
   "source": [
    "sns.pairplot(df[['Spending', 'Freq']], diag_kind='kde')"
   ]
  },
  {
   "cell_type": "code",
   "execution_count": 6,
   "metadata": {},
   "outputs": [],
   "source": [
    "#sns.pairplot(df, diag_kind='kde')"
   ]
  },
  {
   "cell_type": "code",
   "execution_count": 7,
   "metadata": {},
   "outputs": [
    {
     "data": {
      "text/plain": [
       "Index(['US', 'source_a', 'source_c', 'source_b', 'source_d', 'source_e',\n",
       "       'source_m', 'source_o', 'source_h', 'source_r', 'source_s', 'source_t',\n",
       "       'source_u', 'source_p', 'source_x', 'source_w', 'Freq',\n",
       "       'last_update_days_ago', '1st_update_days_ago', 'Web order',\n",
       "       'Gender=male', 'Address_is_res', 'Purchase', 'Spending'],\n",
       "      dtype='object')"
      ]
     },
     "execution_count": 7,
     "metadata": {},
     "output_type": "execute_result"
    }
   ],
   "source": [
    "df.columns"
   ]
  },
  {
   "cell_type": "code",
   "execution_count": 8,
   "metadata": {},
   "outputs": [
    {
     "name": "stdout",
     "output_type": "stream",
     "text": [
      "<class 'pandas.core.frame.DataFrame'>\n",
      "RangeIndex: 2000 entries, 0 to 1999\n",
      "Data columns (total 24 columns):\n",
      " #   Column                Non-Null Count  Dtype  \n",
      "---  ------                --------------  -----  \n",
      " 0   US                    2000 non-null   int64  \n",
      " 1   source_a              2000 non-null   int64  \n",
      " 2   source_c              2000 non-null   int64  \n",
      " 3   source_b              2000 non-null   int64  \n",
      " 4   source_d              2000 non-null   int64  \n",
      " 5   source_e              2000 non-null   int64  \n",
      " 6   source_m              2000 non-null   int64  \n",
      " 7   source_o              2000 non-null   int64  \n",
      " 8   source_h              2000 non-null   int64  \n",
      " 9   source_r              2000 non-null   int64  \n",
      " 10  source_s              2000 non-null   int64  \n",
      " 11  source_t              2000 non-null   int64  \n",
      " 12  source_u              2000 non-null   int64  \n",
      " 13  source_p              2000 non-null   int64  \n",
      " 14  source_x              2000 non-null   int64  \n",
      " 15  source_w              2000 non-null   int64  \n",
      " 16  Freq                  2000 non-null   int64  \n",
      " 17  last_update_days_ago  2000 non-null   int64  \n",
      " 18  1st_update_days_ago   2000 non-null   int64  \n",
      " 19  Web order             2000 non-null   int64  \n",
      " 20  Gender=male           2000 non-null   int64  \n",
      " 21  Address_is_res        2000 non-null   int64  \n",
      " 22  Purchase              2000 non-null   int64  \n",
      " 23  Spending              2000 non-null   float64\n",
      "dtypes: float64(1), int64(23)\n",
      "memory usage: 375.1 KB\n"
     ]
    }
   ],
   "source": [
    "df.info()"
   ]
  },
  {
   "cell_type": "markdown",
   "metadata": {},
   "source": [
    "# Stage 1"
   ]
  },
  {
   "cell_type": "code",
   "execution_count": 9,
   "metadata": {},
   "outputs": [],
   "source": [
    "target = ['Spending']\n",
    "features = ['US', 'source_a', 'source_c', 'source_b', 'source_d', 'source_e',\n",
    "       'source_m', 'source_o', 'source_h', 'source_r', 'source_s', 'source_t',\n",
    "       'source_u', 'source_p', 'source_x', 'source_w', 'Freq',\n",
    "       'last_update_days_ago', '1st_update_days_ago', 'Web order',\n",
    "       'Gender=male', 'Address_is_res']"
   ]
  },
  {
   "cell_type": "code",
   "execution_count": 10,
   "metadata": {},
   "outputs": [],
   "source": [
    "X = df[features]\n",
    "y = df[target]\n",
    "X_train, X_test, y_train, y_test = train_test_split(X, y, test_size=0.33, random_state=42)"
   ]
  },
  {
   "cell_type": "code",
   "execution_count": 11,
   "metadata": {},
   "outputs": [],
   "source": [
    "scaler = MinMaxScaler()\n",
    "scaler.fit(X)\n",
    "X_scaled = scaler.transform(X)\n",
    "X_scaled = pd.DataFrame(X_scaled, columns=X.columns)"
   ]
  },
  {
   "cell_type": "code",
   "execution_count": 12,
   "metadata": {},
   "outputs": [],
   "source": [
    "from sklearn.metrics import r2_score, mean_squared_error, make_scorer\n",
    "def RMSE(y_true,y_pred):\n",
    "    mse = mean_squared_error(y_true, y_pred)\n",
    "    rmse = np.sqrt(mse)\n",
    "    #print ('RMSE: %2.3f' % rmse)\n",
    "    return rmse\n",
    "\n",
    "def two_scorer():\n",
    "    return make_scorer(RMSE, greater_is_better=False)"
   ]
  },
  {
   "cell_type": "markdown",
   "metadata": {},
   "source": [
    "## LinearRegression"
   ]
  },
  {
   "cell_type": "code",
   "execution_count": 13,
   "metadata": {},
   "outputs": [],
   "source": [
    "from sklearn.linear_model import LinearRegression\n",
    "\n",
    "reg = LinearRegression().fit(X_train, y_train)\n",
    "reg_score = cross_val_score(reg, X, y, cv=5, scoring=two_scorer())"
   ]
  },
  {
   "cell_type": "code",
   "execution_count": 14,
   "metadata": {},
   "outputs": [
    {
     "name": "stdout",
     "output_type": "stream",
     "text": [
      "Linear Regression model RMSE: 126.83\n"
     ]
    }
   ],
   "source": [
    "test_results = {}\n",
    "test_results['Linear Regression'] = -np.mean(reg_score)\n",
    "print('Linear Regression model RMSE: %2.2f' %-np.mean(reg_score))"
   ]
  },
  {
   "cell_type": "markdown",
   "metadata": {},
   "source": [
    "## KNN"
   ]
  },
  {
   "cell_type": "code",
   "execution_count": 15,
   "metadata": {},
   "outputs": [
    {
     "name": "stdout",
     "output_type": "stream",
     "text": [
      "best params:  {'n_neighbors': 8}\n",
      "KNN model RMSE: 165.90\n"
     ]
    }
   ],
   "source": [
    "from sklearn.neighbors import KNeighborsRegressor\n",
    "\n",
    "param_grid = {'n_neighbors':[3, 5, 8]}\n",
    "neigh = KNeighborsRegressor()\n",
    "knn_clf = GridSearchCV(neigh, param_grid, cv=5, scoring=two_scorer())\n",
    "knn_score = knn_clf.fit(X_scaled, y)\n",
    "\n",
    "print('best params: ', knn_score.best_params_)\n",
    "# Mean cross-validated score of the best_estimator\n",
    "test_results['KNN'] = -knn_score.best_score_\n",
    "print('KNN model RMSE: %2.2f' %-knn_score.best_score_)"
   ]
  },
  {
   "cell_type": "markdown",
   "metadata": {},
   "source": [
    "## DecisionTree"
   ]
  },
  {
   "cell_type": "code",
   "execution_count": 16,
   "metadata": {},
   "outputs": [
    {
     "name": "stdout",
     "output_type": "stream",
     "text": [
      "best params:  {'max_depth': 5, 'min_samples_split': 5}\n",
      "Decision tree model RMSE: 129.78\n"
     ]
    }
   ],
   "source": [
    "from sklearn.tree import DecisionTreeRegressor\n",
    "\n",
    "param_grid = {'max_depth':[5, 10], 'min_samples_split':[2, 5, 8]}\n",
    "regressor = DecisionTreeRegressor()\n",
    "dt_clf = GridSearchCV(regressor, param_grid, cv=5, scoring=two_scorer())\n",
    "dt_score = dt_clf.fit(X, y)\n",
    "\n",
    "print('best params: ', dt_score.best_params_)\n",
    "test_results['Decision Tree'] = -dt_score.best_score_\n",
    "print('Decision tree model RMSE: %2.2f' %-dt_score.best_score_)"
   ]
  },
  {
   "cell_type": "markdown",
   "metadata": {},
   "source": [
    "## SVM Regression"
   ]
  },
  {
   "cell_type": "code",
   "execution_count": 17,
   "metadata": {},
   "outputs": [
    {
     "name": "stdout",
     "output_type": "stream",
     "text": [
      "best params:  {'C': 200, 'gamma': 0.5, 'kernel': 'rbf'}\n",
      "SVM model RMSE: 139.82\n"
     ]
    }
   ],
   "source": [
    "svr = SVR()\n",
    "svm_grid = {'kernel':['rbf'],'C':[100,200],'gamma':[.05,.1,.5]} \n",
    "svr_clf = GridSearchCV(svr, svm_grid, cv=5, scoring=two_scorer())\n",
    "svr_score = svr_clf.fit(X_scaled, y)\n",
    "\n",
    "print('best params: ', svr_score.best_params_)\n",
    "test_results['SVM'] = -svr_score.best_score_\n",
    "print('SVM model RMSE: %2.2f' %-svr_score.best_score_)"
   ]
  },
  {
   "cell_type": "markdown",
   "metadata": {},
   "source": [
    "## Neural Network"
   ]
  },
  {
   "cell_type": "code",
   "execution_count": 18,
   "metadata": {},
   "outputs": [],
   "source": [
    "import tensorflow as tf\n",
    "from tensorflow import keras\n",
    "from tensorflow.keras import layers\n",
    "\n",
    "from tensorflow.keras.models import Sequential\n",
    "from tensorflow.keras.layers import Dense, Activation, Dropout\n",
    "from tensorflow.keras.utils import to_categorical\n",
    "import keras_tuner as kt\n",
    "\n",
    "# https://www.tensorflow.org/tutorials/keras/regression"
   ]
  },
  {
   "cell_type": "code",
   "execution_count": 19,
   "metadata": {},
   "outputs": [],
   "source": [
    "train_dataset = df.sample(frac=0.8, random_state=0)\n",
    "test_dataset = df.drop(train_dataset.index)\n",
    "\n",
    "train_dataset.drop('Purchase', axis=1, inplace=True)\n",
    "test_dataset.drop('Purchase', axis=1, inplace=True)\n",
    "\n",
    "train_features = train_dataset.copy()\n",
    "test_features = test_dataset.copy()\n",
    "\n",
    "train_labels = train_features.pop('Spending')\n",
    "test_labels = test_features.pop('Spending')"
   ]
  },
  {
   "cell_type": "code",
   "execution_count": 20,
   "metadata": {},
   "outputs": [
    {
     "name": "stderr",
     "output_type": "stream",
     "text": [
      "2022-03-16 16:26:10.371984: I tensorflow/core/platform/cpu_feature_guard.cc:142] This TensorFlow binary is optimized with oneAPI Deep Neural Network Library (oneDNN) to use the following CPU instructions in performance-critical operations:  AVX2 FMA\n",
      "To enable them in other operations, rebuild TensorFlow with the appropriate compiler flags.\n",
      "2022-03-16 16:26:10.406721: I tensorflow/compiler/mlir/mlir_graph_optimization_pass.cc:185] None of the MLIR Optimization Passes are enabled (registered 2)\n"
     ]
    },
    {
     "name": "stdout",
     "output_type": "stream",
     "text": [
      "[[8.2187498e-01 1.2937501e-01 5.5625007e-02 6.3124999e-02 4.1250002e-02\n",
      "  1.5124997e-01 1.6249999e-02 3.3749998e-02 5.1250007e-02 6.7499995e-02\n",
      "  4.3125000e-02 2.0000000e-02 1.1937499e-01 5.0000004e-03 1.8125003e-02\n",
      "  1.3937500e-01 1.4112499e+00 2.1738855e+03 2.4526306e+03 4.2062503e-01\n",
      "  5.1937497e-01 2.2312501e-01]]\n"
     ]
    }
   ],
   "source": [
    "# The Normalization layer\n",
    "normalizer = tf.keras.layers.Normalization(axis=-1)\n",
    "normalizer.adapt(np.array(train_features))\n",
    "print(normalizer.mean.numpy())"
   ]
  },
  {
   "cell_type": "markdown",
   "metadata": {},
   "source": [
    "### Linear regression"
   ]
  },
  {
   "cell_type": "code",
   "execution_count": 21,
   "metadata": {},
   "outputs": [],
   "source": [
    "from tensorflow.keras import backend as K\n",
    "def root_mean_squared_error(y_true, y_pred):\n",
    "    return K.sqrt(mean_squared_error(y_true, y_pred))"
   ]
  },
  {
   "cell_type": "code",
   "execution_count": 22,
   "metadata": {},
   "outputs": [],
   "source": [
    "linear_model = tf.keras.Sequential([\n",
    "    normalizer,\n",
    "    layers.Dense(units=1)\n",
    "])"
   ]
  },
  {
   "cell_type": "code",
   "execution_count": 23,
   "metadata": {},
   "outputs": [],
   "source": [
    "linear_model.compile(\n",
    "    optimizer=tf.optimizers.Adam(learning_rate=0.1),\n",
    "    loss='mean_squared_error',\n",
    "    metrics=[tf.keras.metrics.RootMeanSquaredError(name='rmse')])"
   ]
  },
  {
   "cell_type": "code",
   "execution_count": 24,
   "metadata": {},
   "outputs": [
    {
     "name": "stdout",
     "output_type": "stream",
     "text": [
      "CPU times: user 4.73 s, sys: 655 ms, total: 5.38 s\n",
      "Wall time: 3.94 s\n"
     ]
    }
   ],
   "source": [
    "%%time\n",
    "history = linear_model.fit(\n",
    "    train_features,\n",
    "    train_labels,\n",
    "    epochs=100,\n",
    "    # Suppress logging.\n",
    "    verbose=0,\n",
    "    # Calculate validation results on 20% of the training data.\n",
    "    validation_split = 0.2)"
   ]
  },
  {
   "cell_type": "code",
   "execution_count": 25,
   "metadata": {},
   "outputs": [],
   "source": [
    "def plot_loss(history):\n",
    "    plt.plot(history.history['loss'], label='loss')\n",
    "    plt.plot(history.history['val_loss'], label='val_loss')\n",
    "    plt.xlabel('Epoch')\n",
    "    plt.ylabel('Error')\n",
    "    plt.legend()\n",
    "    plt.grid(True)"
   ]
  },
  {
   "cell_type": "code",
   "execution_count": 26,
   "metadata": {},
   "outputs": [
    {
     "data": {
      "image/png": "[encoded data removed]",
      "text/plain": [
       "<Figure size 432x288 with 1 Axes>"
      ]
     },
     "metadata": {
      "needs_background": "light"
     },
     "output_type": "display_data"
    }
   ],
   "source": [
    "plot_loss(history)"
   ]
  },
  {
   "cell_type": "code",
   "execution_count": 27,
   "metadata": {},
   "outputs": [
    {
     "data": {
      "text/plain": [
       "126.61321258544922"
      ]
     },
     "execution_count": 27,
     "metadata": {},
     "output_type": "execute_result"
    }
   ],
   "source": [
    "test_results['Linear Neural Network'] = linear_model.evaluate(test_features, test_labels, verbose=0)[1]\n",
    "test_results['Linear Neural Network']"
   ]
  },
  {
   "cell_type": "markdown",
   "metadata": {},
   "source": [
    "### Regression using a DNN"
   ]
  },
  {
   "cell_type": "code",
   "execution_count": 28,
   "metadata": {},
   "outputs": [],
   "source": [
    "import keras_tuner as kt"
   ]
  },
  {
   "cell_type": "code",
   "execution_count": 29,
   "metadata": {},
   "outputs": [],
   "source": [
    "def build_and_compile_model(norm):\n",
    "    model = keras.Sequential([\n",
    "      norm,\n",
    "      layers.Dense(64, activation='relu'),\n",
    "      layers.Dense(64, activation='relu'),\n",
    "      layers.Dense(1)\n",
    "    ])\n",
    "    \n",
    "    #hp_learning_rate = norm.Choice('learning_rate', values=[1e-2, 1e-3, 1e-4])\n",
    "    model.compile(optimizer=tf.keras.optimizers.Adam(learning_rate=0.01),\n",
    "                  loss='mean_squared_error', \n",
    "                  metrics=[tf.keras.metrics.RootMeanSquaredError(name='rmse')])\n",
    "    \n",
    "    return model"
   ]
  },
  {
   "cell_type": "code",
   "execution_count": 30,
   "metadata": {},
   "outputs": [
    {
     "name": "stdout",
     "output_type": "stream",
     "text": [
      "Model: \"sequential_1\"\n",
      "_________________________________________________________________\n",
      "Layer (type)                 Output Shape              Param #   \n",
      "=================================================================\n",
      "normalization (Normalization (None, 22)                45        \n",
      "_________________________________________________________________\n",
      "dense_1 (Dense)              (None, 64)                1472      \n",
      "_________________________________________________________________\n",
      "dense_2 (Dense)              (None, 64)                4160      \n",
      "_________________________________________________________________\n",
      "dense_3 (Dense)              (None, 1)                 65        \n",
      "=================================================================\n",
      "Total params: 5,742\n",
      "Trainable params: 5,697\n",
      "Non-trainable params: 45\n",
      "_________________________________________________________________\n"
     ]
    }
   ],
   "source": [
    "dnn_model = build_and_compile_model(normalizer)\n",
    "dnn_model.summary()"
   ]
  },
  {
   "cell_type": "code",
   "execution_count": 31,
   "metadata": {},
   "outputs": [
    {
     "name": "stdout",
     "output_type": "stream",
     "text": [
      "CPU times: user 5.96 s, sys: 908 ms, total: 6.87 s\n",
      "Wall time: 4.51 s\n"
     ]
    }
   ],
   "source": [
    "%%time\n",
    "history = dnn_model.fit(\n",
    "    train_features,\n",
    "    train_labels,\n",
    "    validation_split=0.2,\n",
    "    verbose=0, epochs=100)"
   ]
  },
  {
   "cell_type": "code",
   "execution_count": 32,
   "metadata": {},
   "outputs": [
    {
     "data": {
      "image/png": "[encoded data removed]",
      "text/plain": [
       "<Figure size 432x288 with 1 Axes>"
      ]
     },
     "metadata": {
      "needs_background": "light"
     },
     "output_type": "display_data"
    }
   ],
   "source": [
    "plot_loss(history)"
   ]
  },
  {
   "cell_type": "code",
   "execution_count": 33,
   "metadata": {},
   "outputs": [
    {
     "data": {
      "text/plain": [
       "165.33480834960938"
      ]
     },
     "execution_count": 33,
     "metadata": {},
     "output_type": "execute_result"
    }
   ],
   "source": [
    "test_results['Deep Neural Network'] = dnn_model.evaluate(test_features, test_labels, verbose=0)[1]\n",
    "test_results['Deep Neural Network']"
   ]
  },
  {
   "cell_type": "markdown",
   "metadata": {},
   "source": [
    "### Keras Tuning"
   ]
  },
  {
   "cell_type": "code",
   "execution_count": 34,
   "metadata": {},
   "outputs": [],
   "source": [
    "# https://keras.io/keras_tuner/\n",
    "# https://www.tensorflow.org/tutorials/keras/keras_tuner\n",
    "import keras_tuner as kt"
   ]
  },
  {
   "cell_type": "code",
   "execution_count": 35,
   "metadata": {},
   "outputs": [],
   "source": [
    "X = df[features]\n",
    "y = df[target]\n",
    "\n",
    "train_features = X_scaled.sample(frac=0.8, random_state=0)\n",
    "test_features = X_scaled.drop(train_features.index)\n",
    "\n",
    "train_labels = y.iloc[train_features.index]\n",
    "test_labels = y.iloc[test_features.index]"
   ]
  },
  {
   "cell_type": "code",
   "execution_count": 36,
   "metadata": {},
   "outputs": [],
   "source": [
    "def build_model(hp):\n",
    "    model = keras.Sequential()\n",
    "    \n",
    "    # Tune the number of units in the first Dense layer\n",
    "    # Choose an optimal value between 32-512\n",
    "    hp_units = hp.Int('units', min_value=10, max_value=100, step=10)\n",
    "    model.add(keras.layers.Dense(units=hp_units, activation='relu', input_dim=22))\n",
    "    #model.add(tf.keras.layers.Dropout(0.2))\n",
    "    model.add(keras.layers.Dense(units=hp_units, activation='relu'))\n",
    "    model.add(keras.layers.Dense(1,  kernel_initializer='normal'))\n",
    "    \n",
    "    # Tune the learning rate for the optimizer\n",
    "    hp_learning_rate = hp.Choice('learning_rate', values=[1e-2, 1e-3, 1e-4])\n",
    "\n",
    "    model.compile(optimizer=tf.keras.optimizers.Adam(learning_rate=hp_learning_rate),\n",
    "                  loss='mse', \n",
    "                  metrics=[tf.keras.metrics.RootMeanSquaredError(name='rmse')])\n",
    "    \n",
    "    return model"
   ]
  },
  {
   "cell_type": "code",
   "execution_count": 37,
   "metadata": {},
   "outputs": [],
   "source": [
    "tuner = kt.RandomSearch(build_model,\n",
    "                        objective='val_loss',\n",
    "                        #objective= Objective(\"val_rmse\", direction=\"min\"),\n",
    "                        max_trials=3,\n",
    "                        overwrite=True,\n",
    "                        #executions_per_trial=3\n",
    "                       )"
   ]
  },
  {
   "cell_type": "code",
   "execution_count": 38,
   "metadata": {},
   "outputs": [],
   "source": [
    "#stop_early = tf.keras.callbacks.EarlyStopping(monitor='mse', patience=5)"
   ]
  },
  {
   "cell_type": "code",
   "execution_count": 39,
   "metadata": {},
   "outputs": [
    {
     "name": "stdout",
     "output_type": "stream",
     "text": [
      "Trial 3 Complete [00h 00m 33s]\n",
      "val_loss: 11100.4033203125\n",
      "\n",
      "Best val_loss So Far: 11100.4033203125\n",
      "Total elapsed time: 00h 01m 38s\n",
      "INFO:tensorflow:Oracle triggered exit\n"
     ]
    }
   ],
   "source": [
    "tuner.search(train_features, train_labels, epochs=200, validation_split=0.2\n",
    "             #, callbacks=[stop_early]\n",
    "            )\n",
    "\n",
    "# Get the optimal hyperparameters\n",
    "best_hps=tuner.get_best_hyperparameters()[0]"
   ]
  },
  {
   "cell_type": "code",
   "execution_count": 40,
   "metadata": {},
   "outputs": [
    {
     "name": "stdout",
     "output_type": "stream",
     "text": [
      "Results summary\n",
      "Results in ./untitled_project\n",
      "Showing 10 best trials\n",
      "Objective(name='val_loss', direction='min')\n",
      "Trial summary\n",
      "Hyperparameters:\n",
      "units: 30\n",
      "learning_rate: 0.001\n",
      "Score: 11100.4033203125\n",
      "Trial summary\n",
      "Hyperparameters:\n",
      "units: 20\n",
      "learning_rate: 0.001\n",
      "Score: 11269.2841796875\n",
      "Trial summary\n",
      "Hyperparameters:\n",
      "units: 20\n",
      "learning_rate: 0.0001\n",
      "Score: 29455.259765625\n"
     ]
    }
   ],
   "source": [
    "tuner.results_summary()"
   ]
  },
  {
   "cell_type": "code",
   "execution_count": 41,
   "metadata": {},
   "outputs": [
    {
     "name": "stdout",
     "output_type": "stream",
     "text": [
      "The optimal number of units in the first densely-connectedlayer is\n",
      "30\n",
      "the optimal learning rate for the optimizeris \n",
      "0.001\n"
     ]
    }
   ],
   "source": [
    "print('The optimal number of units in the first densely-connectedlayer is')\n",
    "print(best_hps.get('units'))\n",
    "print('the optimal learning rate for the optimizeris ')\n",
    "print(best_hps.get('learning_rate'))"
   ]
  },
  {
   "cell_type": "code",
   "execution_count": 42,
   "metadata": {},
   "outputs": [
    {
     "name": "stdout",
     "output_type": "stream",
     "text": [
      "CPU times: user 2 µs, sys: 1e+03 ns, total: 3 µs\n",
      "Wall time: 5.01 µs\n",
      "Epoch 1/50\n",
      "40/40 [==============================] - 0s 3ms/step - loss: 45889.5703 - rmse: 214.2185 - val_loss: 42105.2578 - val_rmse: 205.1957\n",
      "Epoch 2/50\n",
      "40/40 [==============================] - 0s 2ms/step - loss: 45521.3359 - rmse: 213.3573 - val_loss: 41405.3242 - val_rmse: 203.4830\n",
      "Epoch 3/50\n",
      "40/40 [==============================] - 0s 2ms/step - loss: 44071.3750 - rmse: 209.9318 - val_loss: 39070.3555 - val_rmse: 197.6622\n",
      "Epoch 4/50\n",
      "40/40 [==============================] - 0s 2ms/step - loss: 40645.7539 - rmse: 201.6079 - val_loss: 35126.5234 - val_rmse: 187.4207\n",
      "Epoch 5/50\n",
      "40/40 [==============================] - 0s 1ms/step - loss: 36641.1641 - rmse: 191.4188 - val_loss: 32384.4414 - val_rmse: 179.9568\n",
      "Epoch 6/50\n",
      "40/40 [==============================] - 0s 1ms/step - loss: 34628.0391 - rmse: 186.0861 - val_loss: 31725.2285 - val_rmse: 178.1158\n",
      "Epoch 7/50\n",
      "40/40 [==============================] - 0s 1ms/step - loss: 34025.6641 - rmse: 184.4605 - val_loss: 31432.2246 - val_rmse: 177.2914\n",
      "Epoch 8/50\n",
      "40/40 [==============================] - 0s 1ms/step - loss: 33659.0352 - rmse: 183.4640 - val_loss: 31097.9961 - val_rmse: 176.3462\n",
      "Epoch 9/50\n",
      "40/40 [==============================] - 0s 2ms/step - loss: 33227.9336 - rmse: 182.2853 - val_loss: 30816.6816 - val_rmse: 175.5468\n",
      "Epoch 10/50\n",
      "40/40 [==============================] - 0s 1ms/step - loss: 32859.9922 - rmse: 181.2733 - val_loss: 30444.3867 - val_rmse: 174.4832\n",
      "Epoch 11/50\n",
      "40/40 [==============================] - 0s 1ms/step - loss: 32429.0156 - rmse: 180.0806 - val_loss: 30112.9180 - val_rmse: 173.5307\n",
      "Epoch 12/50\n",
      "40/40 [==============================] - 0s 2ms/step - loss: 32024.9316 - rmse: 178.9551 - val_loss: 29679.9941 - val_rmse: 172.2788\n",
      "Epoch 13/50\n",
      "40/40 [==============================] - 0s 1ms/step - loss: 31535.8340 - rmse: 177.5833 - val_loss: 29298.6504 - val_rmse: 171.1685\n",
      "Epoch 14/50\n",
      "40/40 [==============================] - 0s 1ms/step - loss: 31103.6309 - rmse: 176.3622 - val_loss: 28896.7812 - val_rmse: 169.9905\n",
      "Epoch 15/50\n",
      "40/40 [==============================] - 0s 1ms/step - loss: 30694.9023 - rmse: 175.1996 - val_loss: 28473.8691 - val_rmse: 168.7420\n",
      "Epoch 16/50\n",
      "40/40 [==============================] - 0s 2ms/step - loss: 30179.1504 - rmse: 173.7215 - val_loss: 28042.3223 - val_rmse: 167.4584\n",
      "Epoch 17/50\n",
      "40/40 [==============================] - 0s 1ms/step - loss: 29715.1934 - rmse: 172.3810 - val_loss: 27651.0156 - val_rmse: 166.2859\n",
      "Epoch 18/50\n",
      "40/40 [==============================] - 0s 1ms/step - loss: 29291.1152 - rmse: 171.1465 - val_loss: 27249.4961 - val_rmse: 165.0742\n",
      "Epoch 19/50\n",
      "40/40 [==============================] - 0s 1ms/step - loss: 28768.2031 - rmse: 169.6119 - val_loss: 26741.5820 - val_rmse: 163.5285\n",
      "Epoch 20/50\n",
      "40/40 [==============================] - 0s 1ms/step - loss: 28326.5977 - rmse: 168.3051 - val_loss: 26273.4805 - val_rmse: 162.0910\n",
      "Epoch 21/50\n",
      "40/40 [==============================] - 0s 2ms/step - loss: 27835.3281 - rmse: 166.8392 - val_loss: 25807.7500 - val_rmse: 160.6479\n",
      "Epoch 22/50\n",
      "40/40 [==============================] - 0s 2ms/step - loss: 27373.7090 - rmse: 165.4500 - val_loss: 25351.9648 - val_rmse: 159.2230\n",
      "Epoch 23/50\n",
      "40/40 [==============================] - 0s 1ms/step - loss: 26869.4023 - rmse: 163.9189 - val_loss: 24839.9102 - val_rmse: 157.6068\n",
      "Epoch 24/50\n",
      "40/40 [==============================] - 0s 1ms/step - loss: 26427.9258 - rmse: 162.5667 - val_loss: 24349.5137 - val_rmse: 156.0433\n",
      "Epoch 25/50\n",
      "40/40 [==============================] - 0s 1ms/step - loss: 25922.3711 - rmse: 161.0043 - val_loss: 23856.7969 - val_rmse: 154.4565\n",
      "Epoch 26/50\n",
      "40/40 [==============================] - 0s 1ms/step - loss: 25437.8848 - rmse: 159.4926 - val_loss: 23270.4570 - val_rmse: 152.5466\n",
      "Epoch 27/50\n",
      "40/40 [==============================] - 0s 1ms/step - loss: 24980.1191 - rmse: 158.0510 - val_loss: 22756.2656 - val_rmse: 150.8518\n",
      "Epoch 28/50\n",
      "40/40 [==============================] - 0s 2ms/step - loss: 24455.3340 - rmse: 156.3820 - val_loss: 22176.7129 - val_rmse: 148.9185\n",
      "Epoch 29/50\n",
      "40/40 [==============================] - 0s 1ms/step - loss: 23992.3320 - rmse: 154.8946 - val_loss: 21628.0273 - val_rmse: 147.0647\n",
      "Epoch 30/50\n",
      "40/40 [==============================] - 0s 1ms/step - loss: 23511.4492 - rmse: 153.3344 - val_loss: 21118.1113 - val_rmse: 145.3207\n",
      "Epoch 31/50\n",
      "40/40 [==============================] - 0s 2ms/step - loss: 23040.7793 - rmse: 151.7919 - val_loss: 20603.5566 - val_rmse: 143.5394\n",
      "Epoch 32/50\n",
      "40/40 [==============================] - 0s 2ms/step - loss: 22584.8516 - rmse: 150.2826 - val_loss: 20090.7832 - val_rmse: 141.7420\n",
      "Epoch 33/50\n",
      "40/40 [==============================] - 0s 2ms/step - loss: 22143.5625 - rmse: 148.8071 - val_loss: 19580.4727 - val_rmse: 139.9302\n",
      "Epoch 34/50\n",
      "40/40 [==============================] - 0s 1ms/step - loss: 21768.4023 - rmse: 147.5412 - val_loss: 19093.1973 - val_rmse: 138.1781\n",
      "Epoch 35/50\n",
      "40/40 [==============================] - 0s 2ms/step - loss: 21381.8867 - rmse: 146.2255 - val_loss: 18611.8867 - val_rmse: 136.4254\n",
      "Epoch 36/50\n",
      "40/40 [==============================] - 0s 1ms/step - loss: 20977.9219 - rmse: 144.8376 - val_loss: 18214.3574 - val_rmse: 134.9606\n",
      "Epoch 37/50\n",
      "40/40 [==============================] - 0s 1ms/step - loss: 20717.3867 - rmse: 143.9353 - val_loss: 17885.0977 - val_rmse: 133.7352\n",
      "Epoch 38/50\n",
      "40/40 [==============================] - 0s 1ms/step - loss: 20332.8867 - rmse: 142.5934 - val_loss: 17467.3418 - val_rmse: 132.1641\n",
      "Epoch 39/50\n",
      "40/40 [==============================] - 0s 1ms/step - loss: 20047.5605 - rmse: 141.5894 - val_loss: 17144.3438 - val_rmse: 130.9364\n",
      "Epoch 40/50\n",
      "40/40 [==============================] - 0s 1ms/step - loss: 19770.4590 - rmse: 140.6075 - val_loss: 16808.9492 - val_rmse: 129.6493\n",
      "Epoch 41/50\n",
      "40/40 [==============================] - 0s 1ms/step - loss: 19576.3652 - rmse: 139.9156 - val_loss: 16561.9980 - val_rmse: 128.6934\n",
      "Epoch 42/50\n",
      "40/40 [==============================] - 0s 1ms/step - loss: 19314.0664 - rmse: 138.9751 - val_loss: 16303.7529 - val_rmse: 127.6861\n",
      "Epoch 43/50\n",
      "40/40 [==============================] - 0s 1ms/step - loss: 19149.7656 - rmse: 138.3827 - val_loss: 16048.5391 - val_rmse: 126.6828\n",
      "Epoch 44/50\n",
      "40/40 [==============================] - 0s 1ms/step - loss: 18934.2930 - rmse: 137.6019 - val_loss: 15837.8301 - val_rmse: 125.8484\n",
      "Epoch 45/50\n",
      "40/40 [==============================] - 0s 1ms/step - loss: 18759.0566 - rmse: 136.9637 - val_loss: 15651.7402 - val_rmse: 125.1069\n",
      "Epoch 46/50\n",
      "40/40 [==============================] - 0s 1ms/step - loss: 18669.3652 - rmse: 136.6359 - val_loss: 15445.6250 - val_rmse: 124.2804\n",
      "Epoch 47/50\n",
      "40/40 [==============================] - 0s 2ms/step - loss: 18500.5938 - rmse: 136.0169 - val_loss: 15277.6230 - val_rmse: 123.6027\n",
      "Epoch 48/50\n",
      "40/40 [==============================] - 0s 2ms/step - loss: 18386.3711 - rmse: 135.5964 - val_loss: 15148.1270 - val_rmse: 123.0777\n",
      "Epoch 49/50\n",
      "40/40 [==============================] - 0s 1ms/step - loss: 18307.6523 - rmse: 135.3058 - val_loss: 14985.3936 - val_rmse: 122.4148\n",
      "Epoch 50/50\n",
      "40/40 [==============================] - 0s 1ms/step - loss: 18187.8867 - rmse: 134.8625 - val_loss: 14880.4736 - val_rmse: 121.9855\n",
      "Best epoch: 50\n"
     ]
    }
   ],
   "source": [
    "# Train the model\n",
    "# Find the optimal number of epochs to train the model with the hyperparameters obtained from the search.\n",
    "# Build the model with the optimal hyperparameters and train it on the data for 50 epochs\n",
    "%time\n",
    "model = tuner.hypermodel.build(best_hps)\n",
    "history = model.fit(train_features, train_labels, epochs=50, validation_split=0.2)\n",
    "\n",
    "val_acc_per_epoch = history.history['rmse']\n",
    "best_epoch = val_acc_per_epoch.index(min(val_acc_per_epoch)) + 1\n",
    "print('Best epoch: %d' % (best_epoch,))"
   ]
  },
  {
   "cell_type": "code",
   "execution_count": 43,
   "metadata": {},
   "outputs": [
    {
     "data": {
      "image/png": "[encoded data removed]",
      "text/plain": [
       "<Figure size 432x288 with 1 Axes>"
      ]
     },
     "metadata": {
      "needs_background": "light"
     },
     "output_type": "display_data"
    }
   ],
   "source": [
    "plot_loss(history)"
   ]
  },
  {
   "cell_type": "code",
   "execution_count": 44,
   "metadata": {},
   "outputs": [
    {
     "name": "stdout",
     "output_type": "stream",
     "text": [
      "13/13 [==============================] - 0s 1ms/step - loss: 19030.9707 - rmse: 137.9528\n",
      "RMSE 137.95278930664062\n"
     ]
    }
   ],
   "source": [
    "eval_result = model.evaluate(test_features, test_labels)\n",
    "print(\"RMSE\", eval_result[1])"
   ]
  },
  {
   "cell_type": "code",
   "execution_count": 45,
   "metadata": {},
   "outputs": [],
   "source": [
    "test_results['Deep Neural Network- tuner'] = eval_result[1]"
   ]
  },
  {
   "cell_type": "markdown",
   "metadata": {},
   "source": [
    "## XGBoost"
   ]
  },
  {
   "cell_type": "code",
   "execution_count": 46,
   "metadata": {},
   "outputs": [
    {
     "name": "stdout",
     "output_type": "stream",
     "text": [
      "best params:  {'learning_rate': 0.1, 'max_depth': 3}\n",
      "XGBoost model RMSE: 121.89\n"
     ]
    }
   ],
   "source": [
    "import xgboost as xgb\n",
    "\n",
    "xgb = xgb.XGBRegressor()\n",
    "xgb_grid = {'max_depth':[3, 6, 8],'learning_rate':[0.05, 0.1, 0.2]}\n",
    "xgb_clf = GridSearchCV(xgb, xgb_grid, cv=5, scoring=two_scorer())\n",
    "xgb_score = xgb_clf.fit(X_scaled, y)\n",
    "\n",
    "print('best params: ', xgb_score.best_params_)\n",
    "test_results['XGBoost_model'] = -xgb_score.best_score_\n",
    "print('XGBoost model RMSE: %2.2f' %-xgb_score.best_score_)"
   ]
  },
  {
   "cell_type": "markdown",
   "metadata": {},
   "source": [
    "## Model Peformance Evaluation"
   ]
  },
  {
   "cell_type": "code",
   "execution_count": 47,
   "metadata": {},
   "outputs": [],
   "source": [
    "test_results_df = pd.DataFrame(list(test_results.items()), \n",
    "                               columns=['Model', 'RMSE']).sort_values('RMSE')"
   ]
  },
  {
   "cell_type": "code",
   "execution_count": 48,
   "metadata": {},
   "outputs": [
    {
     "data": {
      "image/png": "[encoded data removed]",
      "text/plain": [
       "<Figure size 432x288 with 1 Axes>"
      ]
     },
     "metadata": {
      "needs_background": "light"
     },
     "output_type": "display_data"
    }
   ],
   "source": [
    "x = test_results_df['Model']\n",
    "y = test_results_df['RMSE']\n",
    "\n",
    "fig,ax = plt.subplots()\n",
    "plt.bar(x, y)\n",
    "ax.set_xticklabels(x, rotation=45, ha='right')\n",
    "plt.xlabel('model')\n",
    "plt.ylabel('RMSE')\n",
    "plt.ylim(0, 220)\n",
    "plt.title('Model Performance')\n",
    "\n",
    "for a,b in zip(x,y):\n",
    "    plt.text(a, b+0.05, '%2.2f' % b, ha='center', va= 'bottom',fontsize=10)"
   ]
  },
  {
   "cell_type": "markdown",
   "metadata": {},
   "source": [
    "# Stage 2"
   ]
  },
  {
   "cell_type": "code",
   "execution_count": 49,
   "metadata": {},
   "outputs": [],
   "source": [
    "df_p = df[df['Purchase']==1]"
   ]
  },
  {
   "cell_type": "code",
   "execution_count": 50,
   "metadata": {},
   "outputs": [
    {
     "data": {
      "text/plain": [
       "<seaborn.axisgrid.FacetGrid at 0x7f9a2c170af0>"
      ]
     },
     "execution_count": 50,
     "metadata": {},
     "output_type": "execute_result"
    },
    {
     "data": {
      "image/png": "[encoded data removed]",
      "text/plain": [
       "<Figure size 360x360 with 1 Axes>"
      ]
     },
     "metadata": {
      "needs_background": "light"
     },
     "output_type": "display_data"
    }
   ],
   "source": [
    "sns.displot(df_p['Spending'])"
   ]
  },
  {
   "cell_type": "code",
   "execution_count": 51,
   "metadata": {},
   "outputs": [],
   "source": [
    "target = ['Spending']\n",
    "features = ['US', 'source_a', 'source_c', 'source_b', 'source_d', 'source_e',\n",
    "       'source_m', 'source_o', 'source_h', 'source_r', 'source_s', 'source_t',\n",
    "       'source_u', 'source_p', 'source_x', 'source_w', 'Freq',\n",
    "       'last_update_days_ago', '1st_update_days_ago', 'Web order',\n",
    "       'Gender=male', 'Address_is_res']"
   ]
  },
  {
   "cell_type": "code",
   "execution_count": 52,
   "metadata": {},
   "outputs": [],
   "source": [
    "X = df_p[features]\n",
    "y = df_p[target]\n",
    "X_train, X_test, y_train, y_test = train_test_split(X, y, test_size=0.33, random_state=42)"
   ]
  },
  {
   "cell_type": "code",
   "execution_count": 53,
   "metadata": {},
   "outputs": [],
   "source": [
    "scaler = MinMaxScaler()\n",
    "X_scaled = scaler.fit_transform(X)\n",
    "X_scaled = pd.DataFrame(X_scaled, columns=X.columns)"
   ]
  },
  {
   "cell_type": "markdown",
   "metadata": {},
   "source": [
    "## Nested CV"
   ]
  },
  {
   "cell_type": "code",
   "execution_count": 54,
   "metadata": {},
   "outputs": [],
   "source": [
    "i = 42\n",
    "inner_cv = KFold(n_splits=4, shuffle=True, random_state=i)\n",
    "outer_cv = KFold(n_splits=4, shuffle=True, random_state=i)\n",
    "scoring = two_scorer()"
   ]
  },
  {
   "cell_type": "code",
   "execution_count": 55,
   "metadata": {},
   "outputs": [],
   "source": [
    "dt = DecisionTreeRegressor()\n",
    "dt_grid = {'max_depth':list(range(2,10)), 'min_samples_leaf':list(range(1,5))}\n",
    "lr = LinearRegression()\n",
    "lr_grid = {}\n",
    "knn =  KNeighborsRegressor()\n",
    "knn_grid = {'n_neighbors':list(range(2,5))}\n",
    "svm = SVR()\n",
    "svm_grid = {'kernel':['rbf'],'C':[1,10,100],'gamma':[.1,.5,1]} \n",
    "\n",
    "import xgboost as xgb\n",
    "xgb = xgb.XGBRegressor()\n",
    "xgb_grid = {'max_depth':[3,6,9],'learning_rate':[0.05,0.1,0.2]}"
   ]
  },
  {
   "cell_type": "code",
   "execution_count": 56,
   "metadata": {},
   "outputs": [],
   "source": [
    "dt_clf = GridSearchCV(estimator=dt, param_grid=dt_grid, scoring = scoring, cv=inner_cv)\n",
    "lr_clf = GridSearchCV(estimator=lr, param_grid=lr_grid, scoring = scoring, cv=inner_cv)\n",
    "knn_clf = GridSearchCV(estimator=knn, param_grid=knn_grid, scoring = scoring, cv=inner_cv)\n",
    "svm_clf = GridSearchCV(estimator=svm, param_grid=svm_grid, scoring = scoring, cv=inner_cv)\n",
    "xgb_clf = GridSearchCV(estimator=xgb, param_grid=xgb_grid, scoring = scoring, cv=inner_cv)"
   ]
  },
  {
   "cell_type": "code",
   "execution_count": 57,
   "metadata": {},
   "outputs": [],
   "source": [
    "dt_score = cross_val_score(dt_clf, X=X, y=y, cv=outer_cv)\n",
    "lr_score = cross_val_score(lr_clf, X=X, y=y, cv=outer_cv)\n",
    "knn_score = cross_val_score(knn_clf, X=X_scaled, y=y, cv=outer_cv)\n",
    "svm_score = cross_val_score(svm_clf, X=X_scaled, y=y, cv=outer_cv)\n",
    "xgb_score = cross_val_score(xgb_clf, X=X_scaled, y=y, cv=outer_cv)"
   ]
  },
  {
   "cell_type": "code",
   "execution_count": 58,
   "metadata": {},
   "outputs": [
    {
     "data": {
      "text/plain": [
       "{'dt': 179.91559838666933,\n",
       " 'lr': 165.01458044073365,\n",
       " 'knn': 212.36770618903782,\n",
       " 'svm': 190.07156883219045,\n",
       " 'xgb': 160.9016447845745}"
      ]
     },
     "execution_count": 58,
     "metadata": {},
     "output_type": "execute_result"
    }
   ],
   "source": [
    "score = {}\n",
    "score['dt'] = -dt_score.mean()\n",
    "score['lr'] = -lr_score.mean()\n",
    "score['knn'] = -knn_score.mean()\n",
    "score['svm'] = -svm_score.mean()\n",
    "score['xgb'] = -xgb_score.mean()\n",
    "score"
   ]
  },
  {
   "cell_type": "code",
   "execution_count": 59,
   "metadata": {},
   "outputs": [],
   "source": [
    "train_features = X_scaled.sample(frac=0.8, random_state=0)\n",
    "test_features = X_scaled.drop(train_features.index)\n",
    "\n",
    "train_labels = y.iloc[train_features.index]\n",
    "test_labels = y.iloc[test_features.index]"
   ]
  },
  {
   "cell_type": "code",
   "execution_count": 60,
   "metadata": {},
   "outputs": [
    {
     "name": "stdout",
     "output_type": "stream",
     "text": [
      "Trial 3 Complete [00h 00m 30s]\n",
      "val_loss: 48884.10546875\n",
      "\n",
      "Best val_loss So Far: 22002.44921875\n",
      "Total elapsed time: 00h 01m 24s\n",
      "INFO:tensorflow:Oracle triggered exit\n",
      "The optimal number of units in the first densely-connectedlayer is\n",
      "80\n",
      "the optimal learning rate for the optimizeris \n",
      "0.001\n"
     ]
    }
   ],
   "source": [
    "def build_model(hp):\n",
    "    model = keras.Sequential()\n",
    "    \n",
    "    # Tune the number of units in the first Dense layer\n",
    "    # Choose an optimal value between 32-512\n",
    "    hp_units = hp.Int('units', min_value=10, max_value=100, step=10)\n",
    "    model.add(keras.layers.Dense(units=hp_units, activation='relu', input_dim=22))\n",
    "    #model.add(tf.keras.layers.Dropout(0.2))\n",
    "    model.add(keras.layers.Dense(units=hp_units, activation='relu'))\n",
    "    model.add(keras.layers.Dense(1,  kernel_initializer='normal'))\n",
    "    \n",
    "    # Tune the learning rate for the optimizer\n",
    "    hp_learning_rate = hp.Choice('learning_rate', values=[1e-2, 1e-3, 1e-4])\n",
    "\n",
    "    model.compile(optimizer=tf.keras.optimizers.Adam(learning_rate=hp_learning_rate),\n",
    "                  loss='mse', \n",
    "                  metrics=[tf.keras.metrics.RootMeanSquaredError(name='rmse')])\n",
    "    \n",
    "    return model\n",
    "\n",
    "tuner = kt.RandomSearch(build_model,\n",
    "                        objective='val_loss',\n",
    "                        max_trials=3,\n",
    "                        overwrite=True,\n",
    "                       )\n",
    "\n",
    "tuner.search(train_features, train_labels, epochs=200, validation_data=(test_features, test_labels))\n",
    "\n",
    "# Get the optimal hyperparameters\n",
    "best_hps=tuner.get_best_hyperparameters()[0]\n",
    "\n",
    "print('The optimal number of units in the first densely-connectedlayer is')\n",
    "print(best_hps.get('units'))\n",
    "print('the optimal learning rate for the optimizeris ')\n",
    "print(best_hps.get('learning_rate'))"
   ]
  },
  {
   "cell_type": "code",
   "execution_count": 61,
   "metadata": {},
   "outputs": [],
   "source": [
    "import math\n",
    "score['NN'] = math.sqrt(22043.51953125)"
   ]
  },
  {
   "cell_type": "markdown",
   "metadata": {},
   "source": [
    "## Model Performance Evaluation"
   ]
  },
  {
   "cell_type": "code",
   "execution_count": 62,
   "metadata": {},
   "outputs": [
    {
     "data": {
      "image/png": "[encoded data removed]",
      "text/plain": [
       "<Figure size 432x288 with 1 Axes>"
      ]
     },
     "metadata": {
      "needs_background": "light"
     },
     "output_type": "display_data"
    }
   ],
   "source": [
    "score_df = pd.DataFrame(list(score.items()), \n",
    "                               columns=['Model', 'RMSE']).sort_values('RMSE')\n",
    "\n",
    "x = score_df['Model']\n",
    "y = score_df['RMSE']\n",
    "\n",
    "fig,ax = plt.subplots()\n",
    "plt.bar(x, y)\n",
    "ax.set_xticklabels(x, rotation=45, ha='right')\n",
    "plt.xlabel('model')\n",
    "plt.ylabel('RMSE')\n",
    "plt.ylim(0, 230)\n",
    "plt.title('Model Performance')\n",
    "\n",
    "for a,b in zip(x,y):\n",
    "    plt.text(a, b+0.05, '%2.2f' % b, ha='center', va= 'bottom',fontsize=11)"
   ]
  },
  {
   "cell_type": "markdown",
   "metadata": {},
   "source": [
    "# Compare models"
   ]
  },
  {
   "cell_type": "markdown",
   "metadata": {},
   "source": [
    "For stage 1, XGBoost model gets the best results, with RMSE 121.89.\n",
    "\n",
    "For stage 2, neural network gets the best results, with RMSE 148.47.\n",
    "\n",
    "In general, model performances drop in task B. I believe the reason is because those who do not purchase and spend 0 dollars have very similar characterics and are easily to predict. On the other hand, those who do purchase and spend more than 0 dollar have very diverse traits."
   ]
  }
 ],
 "metadata": {
  "kernelspec": {
   "display_name": "Python 3 (ipykernel)",
   "language": "python",
   "name": "python3"
  },
  "language_info": {
   "codemirror_mode": {
    "name": "ipython",
    "version": 3
   },
   "file_extension": ".py",
   "mimetype": "text/x-python",
   "name": "python",
   "nbconvert_exporter": "python",
   "pygments_lexer": "ipython3",
   "version": "3.8.12"
  },
  "toc": {
   "base_numbering": 1,
   "nav_menu": {},
   "number_sections": true,
   "sideBar": true,
   "skip_h1_title": false,
   "title_cell": "Table of Contents",
   "title_sidebar": "Contents",
   "toc_cell": false,
   "toc_position": {
    "height": "calc(100% - 180px)",
    "left": "10px",
    "top": "150px",
    "width": "227px"
   },
   "toc_section_display": true,
   "toc_window_display": true
  },
  "varInspector": {
   "cols": {
    "lenName": 16,
    "lenType": 16,
    "lenVar": 40
   },
   "kernels_config": {
    "python": {
     "delete_cmd_postfix": "",
     "delete_cmd_prefix": "del ",
     "library": "var_list.py",
     "varRefreshCmd": "print(var_dic_list())"
    },
    "r": {
     "delete_cmd_postfix": ") ",
     "delete_cmd_prefix": "rm(",
     "library": "var_list.r",
     "varRefreshCmd": "cat(var_dic_list()) "
    }
   },
   "types_to_exclude": [
    "module",
    "function",
    "builtin_function_or_method",
    "instance",
    "_Feature"
   ],
   "window_display": false
  }
 },
 "nbformat": 4,
 "nbformat_minor": 4
}
